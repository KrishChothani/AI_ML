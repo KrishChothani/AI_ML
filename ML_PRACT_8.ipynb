{
  "nbformat": 4,
  "nbformat_minor": 0,
  "metadata": {
    "colab": {
      "provenance": [],
      "authorship_tag": "ABX9TyMdbN8vxGcVKWCF44UKuNF6",
      "include_colab_link": true
    },
    "kernelspec": {
      "name": "python3",
      "display_name": "Python 3"
    },
    "language_info": {
      "name": "python"
    }
  },
  "cells": [
    {
      "cell_type": "markdown",
      "metadata": {
        "id": "view-in-github",
        "colab_type": "text"
      },
      "source": [
        "<a href=\"https://colab.research.google.com/github/KrishChothani/AI_ML/blob/main/ML_PRACT_8.ipynb\" target=\"_parent\"><img src=\"https://colab.research.google.com/assets/colab-badge.svg\" alt=\"Open In Colab\"/></a>"
      ]
    },
    {
      "cell_type": "code",
      "source": [
        "import numpy as np\n",
        "\n",
        "class Perceptron:\n",
        "    def __init__(self, lr=1.0, epochs=25):\n",
        "        self.lr = lr\n",
        "        self.epochs = epochs\n",
        "\n",
        "    def fit(self, X, y):\n",
        "        X = np.c_[np.ones((X.shape[0], 1)), X]\n",
        "        self.w = np.zeros(X.shape[1])\n",
        "        for _ in range(self.epochs):\n",
        "            for xi, target in zip(X, y):\n",
        "                y_pred = 1 if np.dot(xi, self.w) >= 0 else 0\n",
        "                self.w += self.lr * (target - y_pred) * xi\n",
        "        return self\n",
        "\n",
        "    def predict(self, X):\n",
        "        X = np.c_[np.ones((X.shape[0], 1)), X]\n",
        "        return (np.dot(X, self.w) >= 0).astype(int)\n",
        "\n",
        "X = np.array([\n",
        "    [0, 0],\n",
        "    [0, 1],\n",
        "    [1, 0],\n",
        "    [1, 1],\n",
        "])\n",
        "\n",
        "y_and = np.array([0, 0, 0, 1])\n",
        "y_or  = np.array([0, 1, 1, 1])\n",
        "\n",
        "# AND gate\n",
        "p_and = Perceptron().fit(X, y_and)\n",
        "print(\"AND weights:\", p_and.w)\n",
        "print(\"AND predictions:\", p_and.predict(X))\n",
        "\n",
        "# OR gate\n",
        "p_or = Perceptron().fit(X, y_or)\n",
        "print(\"OR weights:\", p_or.w)\n",
        "print(\"OR predictions:\", p_or.predict(X))\n"
      ],
      "metadata": {
        "colab": {
          "base_uri": "https://localhost:8080/"
        },
        "id": "1B3uPQaRsmpC",
        "outputId": "9b6ccddf-3ec1-44b4-b318-8f654986851d"
      },
      "execution_count": 11,
      "outputs": [
        {
          "output_type": "stream",
          "name": "stdout",
          "text": [
            "AND weights: [-3.  2.  1.]\n",
            "AND predictions: [0 0 0 1]\n",
            "OR weights: [-1.  1.  1.]\n",
            "OR predictions: [0 1 1 1]\n"
          ]
        }
      ]
    },
    {
      "cell_type": "code",
      "source": [],
      "metadata": {
        "id": "pM0doLEXuHQa"
      },
      "execution_count": null,
      "outputs": []
    }
  ]
}